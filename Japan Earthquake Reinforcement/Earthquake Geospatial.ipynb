{
 "cells": [
  {
   "cell_type": "markdown",
   "metadata": {},
   "source": [
    "# Introduction\n",
    "\n",
    "Considering that I'm an urban safety planner in Japan, and I'm analyzing which areas of Japan need extra earthquake reinforcement.  Specifically the areas that are both high in population density and prone to earthquakes.\n",
    "\n",
    "<center>\n",
    "<img src=\"https://storage.googleapis.com/kaggle-media/learn/images/Kuh9gPj.png\" width=\"450\"><br/>\n",
    "</center>"
   ]
  },
  {
   "cell_type": "code",
   "execution_count": 1,
   "metadata": {
    "execution": {
     "iopub.execute_input": "2024-01-14T03:21:45.996397Z",
     "iopub.status.busy": "2024-01-14T03:21:45.995946Z",
     "iopub.status.idle": "2024-01-14T03:21:46.002105Z",
     "shell.execute_reply": "2024-01-14T03:21:46.000988Z",
     "shell.execute_reply.started": "2024-01-14T03:21:45.996366Z"
    }
   },
   "outputs": [],
   "source": [
    "import pandas as pd\n",
    "import geopandas as gpd\n",
    "\n",
    "import folium\n",
    "from folium import Choropleth\n",
    "from folium.plugins import HeatMap"
   ]
  },
  {
   "cell_type": "markdown",
   "metadata": {
    "_kg_hide-input": true
   },
   "source": [
    "#### Define a function `embed_map()` for displaying interactive maps. It accepts two arguments: the variable containing the map, and the name of the HTML file where the map will be saved.\n",
    "\n",
    "This function ensures that the maps are visible in all web browsers"
   ]
  },
  {
   "cell_type": "code",
   "execution_count": 2,
   "metadata": {
    "execution": {
     "iopub.execute_input": "2024-01-14T03:22:56.286884Z",
     "iopub.status.busy": "2024-01-14T03:22:56.286173Z",
     "iopub.status.idle": "2024-01-14T03:22:56.292706Z",
     "shell.execute_reply": "2024-01-14T03:22:56.291468Z",
     "shell.execute_reply.started": "2024-01-14T03:22:56.286847Z"
    }
   },
   "outputs": [],
   "source": [
    "def embed_map(m, file_name):\n",
    "    from IPython.display import IFrame\n",
    "    m.save(file_name)\n",
    "    return IFrame(file_name, width='100%', height='500px')"
   ]
  },
  {
   "cell_type": "markdown",
   "metadata": {},
   "source": [
    "## Do earthquakes coincide with plate boundaries?"
   ]
  },
  {
   "cell_type": "code",
   "execution_count": 6,
   "metadata": {
    "execution": {
     "iopub.execute_input": "2024-01-14T02:58:38.917996Z",
     "iopub.status.busy": "2024-01-14T02:58:38.917664Z",
     "iopub.status.idle": "2024-01-14T02:58:39.759570Z",
     "shell.execute_reply": "2024-01-14T02:58:39.758475Z",
     "shell.execute_reply.started": "2024-01-14T02:58:38.917961Z"
    }
   },
   "outputs": [
    {
     "data": {
      "text/html": [
       "<div>\n",
       "<style scoped>\n",
       "    .dataframe tbody tr th:only-of-type {\n",
       "        vertical-align: middle;\n",
       "    }\n",
       "\n",
       "    .dataframe tbody tr th {\n",
       "        vertical-align: top;\n",
       "    }\n",
       "\n",
       "    .dataframe thead th {\n",
       "        text-align: right;\n",
       "    }\n",
       "</style>\n",
       "<table border=\"1\" class=\"dataframe\">\n",
       "  <thead>\n",
       "    <tr style=\"text-align: right;\">\n",
       "      <th></th>\n",
       "      <th>HAZ_PLATES</th>\n",
       "      <th>HAZ_PLAT_1</th>\n",
       "      <th>HAZ_PLAT_2</th>\n",
       "      <th>Shape_Leng</th>\n",
       "      <th>coordinates</th>\n",
       "    </tr>\n",
       "  </thead>\n",
       "  <tbody>\n",
       "    <tr>\n",
       "      <th>0</th>\n",
       "      <td>TRENCH</td>\n",
       "      <td>SERAM TROUGH (ACTIVE)</td>\n",
       "      <td>6722</td>\n",
       "      <td>5.843467</td>\n",
       "      <td>[(-5.444200361999947, 133.6808931800001), (-5....</td>\n",
       "    </tr>\n",
       "    <tr>\n",
       "      <th>1</th>\n",
       "      <td>TRENCH</td>\n",
       "      <td>WETAR THRUST</td>\n",
       "      <td>6722</td>\n",
       "      <td>1.829013</td>\n",
       "      <td>[(-7.760600482999962, 125.47879802900002), (-7...</td>\n",
       "    </tr>\n",
       "    <tr>\n",
       "      <th>2</th>\n",
       "      <td>TRENCH</td>\n",
       "      <td>TRENCH WEST OF LUZON (MANILA TRENCH) NORTHERN ...</td>\n",
       "      <td>6621</td>\n",
       "      <td>6.743604</td>\n",
       "      <td>[(19.817899819000047, 120.09999798800004), (19...</td>\n",
       "    </tr>\n",
       "    <tr>\n",
       "      <th>3</th>\n",
       "      <td>TRENCH</td>\n",
       "      <td>BONIN TRENCH</td>\n",
       "      <td>9821</td>\n",
       "      <td>8.329381</td>\n",
       "      <td>[(26.175899215000072, 143.20620700100005), (26...</td>\n",
       "    </tr>\n",
       "    <tr>\n",
       "      <th>4</th>\n",
       "      <td>TRENCH</td>\n",
       "      <td>NEW GUINEA TRENCH</td>\n",
       "      <td>8001</td>\n",
       "      <td>11.998145</td>\n",
       "      <td>[(0.41880004000006466, 132.8273013480001), (0....</td>\n",
       "    </tr>\n",
       "  </tbody>\n",
       "</table>\n",
       "</div>"
      ],
      "text/plain": [
       "  HAZ_PLATES                                         HAZ_PLAT_1  HAZ_PLAT_2  \\\n",
       "0     TRENCH                              SERAM TROUGH (ACTIVE)        6722   \n",
       "1     TRENCH                                       WETAR THRUST        6722   \n",
       "2     TRENCH  TRENCH WEST OF LUZON (MANILA TRENCH) NORTHERN ...        6621   \n",
       "3     TRENCH                                       BONIN TRENCH        9821   \n",
       "4     TRENCH                                  NEW GUINEA TRENCH        8001   \n",
       "\n",
       "   Shape_Leng                                        coordinates  \n",
       "0    5.843467  [(-5.444200361999947, 133.6808931800001), (-5....  \n",
       "1    1.829013  [(-7.760600482999962, 125.47879802900002), (-7...  \n",
       "2    6.743604  [(19.817899819000047, 120.09999798800004), (19...  \n",
       "3    8.329381  [(26.175899215000072, 143.20620700100005), (26...  \n",
       "4   11.998145  [(0.41880004000006466, 132.8273013480001), (0....  "
      ]
     },
     "execution_count": 6,
     "metadata": {},
     "output_type": "execute_result"
    }
   ],
   "source": [
    "plate_boundaries = gpd.read_file(\"Plate_Boundaries.shp\")\n",
    "plate_boundaries['coordinates'] = plate_boundaries.apply(lambda x: [(b,a) for (a,b) in list(x.geometry.coords)], axis='columns')\n",
    "plate_boundaries.drop('geometry', axis=1, inplace=True)\n",
    "\n",
    "plate_boundaries.head()"
   ]
  },
  {
   "cell_type": "code",
   "execution_count": 7,
   "metadata": {
    "execution": {
     "iopub.execute_input": "2024-01-14T03:24:25.051815Z",
     "iopub.status.busy": "2024-01-14T03:24:25.051391Z",
     "iopub.status.idle": "2024-01-14T03:24:25.059847Z",
     "shell.execute_reply": "2024-01-14T03:24:25.058666Z",
     "shell.execute_reply.started": "2024-01-14T03:24:25.051783Z"
    }
   },
   "outputs": [
    {
     "data": {
      "text/plain": [
       "[(-5.444200361999947, 133.6808931800001),\n",
       " (-5.193599878999976, 133.597396902),\n",
       " (-5.0409002209999585, 133.50700362100008),\n",
       " (-4.87900020099994, 133.3043975060001),\n",
       " (-4.75809997999994, 133.18879702300012),\n",
       " (-4.587100180999926, 133.14649969800007),\n",
       " (-4.388599878999969, 133.04930094500003),\n",
       " (-4.282499496999947, 132.99319452800012),\n",
       " (-4.200299737999956, 132.88220177000005),\n",
       " (-4.119299939999962, 132.70480386200006),\n",
       " (-4.018800039999974, 132.56289680100008),\n",
       " (-3.780200160999925, 132.35350030200004),\n",
       " (-3.586100381999927, 132.1681975460001),\n",
       " (-3.433000401999948, 131.95300342000007),\n",
       " (-3.1976996579999764, 131.63040132800006),\n",
       " (-2.9921001809999552, 131.3282931000001),\n",
       " (-2.8492003619999764, 131.01820358100008),\n",
       " (-2.723500301999934, 130.75729330100012),\n",
       " (-2.6297998389999293, 130.4815067390001),\n",
       " (-2.597800240999959, 130.22860692000006),\n",
       " (-2.5657996379999304, 129.9391017900001),\n",
       " (-2.5223003419999372, 129.60499597700004),\n",
       " (-2.4697002619999466, 129.33039831000008),\n",
       " (-2.4388996179999367, 129.08090223300007)]"
      ]
     },
     "execution_count": 7,
     "metadata": {},
     "output_type": "execute_result"
    }
   ],
   "source": [
    "plate_boundaries['coordinates'].iloc[0]"
   ]
  },
  {
   "cell_type": "markdown",
   "metadata": {},
   "source": [
    "loading the historical earthquake data into a DataFrame `earthquakes`."
   ]
  },
  {
   "cell_type": "code",
   "execution_count": 8,
   "metadata": {
    "execution": {
     "iopub.execute_input": "2024-01-14T02:58:39.769673Z",
     "iopub.status.busy": "2024-01-14T02:58:39.769221Z",
     "iopub.status.idle": "2024-01-14T02:58:39.831067Z",
     "shell.execute_reply": "2024-01-14T02:58:39.829938Z",
     "shell.execute_reply.started": "2024-01-14T02:58:39.769637Z"
    }
   },
   "outputs": [
    {
     "data": {
      "text/html": [
       "<div>\n",
       "<style scoped>\n",
       "    .dataframe tbody tr th:only-of-type {\n",
       "        vertical-align: middle;\n",
       "    }\n",
       "\n",
       "    .dataframe tbody tr th {\n",
       "        vertical-align: top;\n",
       "    }\n",
       "\n",
       "    .dataframe thead th {\n",
       "        text-align: right;\n",
       "    }\n",
       "</style>\n",
       "<table border=\"1\" class=\"dataframe\">\n",
       "  <thead>\n",
       "    <tr style=\"text-align: right;\">\n",
       "      <th></th>\n",
       "      <th>DateTime</th>\n",
       "      <th>Latitude</th>\n",
       "      <th>Longitude</th>\n",
       "      <th>Depth</th>\n",
       "      <th>Magnitude</th>\n",
       "      <th>MagType</th>\n",
       "      <th>NbStations</th>\n",
       "      <th>Gap</th>\n",
       "      <th>Distance</th>\n",
       "      <th>RMS</th>\n",
       "      <th>Source</th>\n",
       "      <th>EventID</th>\n",
       "    </tr>\n",
       "  </thead>\n",
       "  <tbody>\n",
       "    <tr>\n",
       "      <th>0</th>\n",
       "      <td>1970-01-04 17:00:40.200</td>\n",
       "      <td>24.139</td>\n",
       "      <td>102.503</td>\n",
       "      <td>31.0</td>\n",
       "      <td>7.5</td>\n",
       "      <td>Ms</td>\n",
       "      <td>90.0</td>\n",
       "      <td>NaN</td>\n",
       "      <td>NaN</td>\n",
       "      <td>0.0</td>\n",
       "      <td>NEI</td>\n",
       "      <td>1.970010e+09</td>\n",
       "    </tr>\n",
       "    <tr>\n",
       "      <th>1</th>\n",
       "      <td>1970-01-06 05:35:51.800</td>\n",
       "      <td>-9.628</td>\n",
       "      <td>151.458</td>\n",
       "      <td>8.0</td>\n",
       "      <td>6.2</td>\n",
       "      <td>Ms</td>\n",
       "      <td>85.0</td>\n",
       "      <td>NaN</td>\n",
       "      <td>NaN</td>\n",
       "      <td>0.0</td>\n",
       "      <td>NEI</td>\n",
       "      <td>1.970011e+09</td>\n",
       "    </tr>\n",
       "    <tr>\n",
       "      <th>2</th>\n",
       "      <td>1970-01-08 17:12:39.100</td>\n",
       "      <td>-34.741</td>\n",
       "      <td>178.568</td>\n",
       "      <td>179.0</td>\n",
       "      <td>6.1</td>\n",
       "      <td>Mb</td>\n",
       "      <td>59.0</td>\n",
       "      <td>NaN</td>\n",
       "      <td>NaN</td>\n",
       "      <td>0.0</td>\n",
       "      <td>NEI</td>\n",
       "      <td>1.970011e+09</td>\n",
       "    </tr>\n",
       "    <tr>\n",
       "      <th>3</th>\n",
       "      <td>1970-01-10 12:07:08.600</td>\n",
       "      <td>6.825</td>\n",
       "      <td>126.737</td>\n",
       "      <td>73.0</td>\n",
       "      <td>6.1</td>\n",
       "      <td>Mb</td>\n",
       "      <td>91.0</td>\n",
       "      <td>NaN</td>\n",
       "      <td>NaN</td>\n",
       "      <td>0.0</td>\n",
       "      <td>NEI</td>\n",
       "      <td>1.970011e+09</td>\n",
       "    </tr>\n",
       "    <tr>\n",
       "      <th>4</th>\n",
       "      <td>1970-01-16 08:05:39.000</td>\n",
       "      <td>60.280</td>\n",
       "      <td>-152.660</td>\n",
       "      <td>85.0</td>\n",
       "      <td>6.0</td>\n",
       "      <td>ML</td>\n",
       "      <td>0.0</td>\n",
       "      <td>NaN</td>\n",
       "      <td>NaN</td>\n",
       "      <td>NaN</td>\n",
       "      <td>AK</td>\n",
       "      <td>NaN</td>\n",
       "    </tr>\n",
       "  </tbody>\n",
       "</table>\n",
       "</div>"
      ],
      "text/plain": [
       "                 DateTime  Latitude  Longitude  Depth  Magnitude MagType  \\\n",
       "0 1970-01-04 17:00:40.200    24.139    102.503   31.0        7.5      Ms   \n",
       "1 1970-01-06 05:35:51.800    -9.628    151.458    8.0        6.2      Ms   \n",
       "2 1970-01-08 17:12:39.100   -34.741    178.568  179.0        6.1      Mb   \n",
       "3 1970-01-10 12:07:08.600     6.825    126.737   73.0        6.1      Mb   \n",
       "4 1970-01-16 08:05:39.000    60.280   -152.660   85.0        6.0      ML   \n",
       "\n",
       "   NbStations  Gap  Distance  RMS Source       EventID  \n",
       "0        90.0  NaN       NaN  0.0    NEI  1.970010e+09  \n",
       "1        85.0  NaN       NaN  0.0    NEI  1.970011e+09  \n",
       "2        59.0  NaN       NaN  0.0    NEI  1.970011e+09  \n",
       "3        91.0  NaN       NaN  0.0    NEI  1.970011e+09  \n",
       "4         0.0  NaN       NaN  NaN     AK           NaN  "
      ]
     },
     "execution_count": 8,
     "metadata": {},
     "output_type": "execute_result"
    }
   ],
   "source": [
    "# Load the data\n",
    "earthquakes = pd.read_csv(\"earthquakes1970-2014.csv\", parse_dates=[\"DateTime\"])\n",
    "earthquakes.head()"
   ]
  },
  {
   "cell_type": "markdown",
   "metadata": {},
   "source": [
    "### Visualizing the plate boundaries on a map. Using all of the earthquake data to add a heatmap to the same map, to determine whether earthquakes coincide with plate boundaries.  "
   ]
  },
  {
   "cell_type": "code",
   "execution_count": 9,
   "metadata": {
    "execution": {
     "iopub.execute_input": "2024-01-14T03:29:50.433072Z",
     "iopub.status.busy": "2024-01-14T03:29:50.432642Z",
     "iopub.status.idle": "2024-01-14T03:29:50.850879Z",
     "shell.execute_reply": "2024-01-14T03:29:50.849768Z",
     "shell.execute_reply.started": "2024-01-14T03:29:50.433042Z"
    }
   },
   "outputs": [
    {
     "data": {
      "text/html": [
       "\n",
       "        <iframe\n",
       "            width=\"100%\"\n",
       "            height=\"500px\"\n",
       "            src=\"q_1.html\"\n",
       "            frameborder=\"0\"\n",
       "            allowfullscreen\n",
       "            \n",
       "        ></iframe>\n",
       "        "
      ],
      "text/plain": [
       "<IPython.lib.display.IFrame at 0x13238e790>"
      ]
     },
     "execution_count": 9,
     "metadata": {},
     "output_type": "execute_result"
    }
   ],
   "source": [
    "# Create a base map with plate boundaries\n",
    "m_1 = folium.Map(location=[35,136], tiles='cartodbpositron', zoom_start=5)\n",
    "for i in range(len(plate_boundaries)):\n",
    "    folium.PolyLine(locations=plate_boundaries.coordinates.iloc[i], weight=2, color='black').add_to(m_1)\n",
    "\n",
    "# Adding earthquakes heatmap to the plate boundaries map\n",
    "HeatMap(data=earthquakes[['Latitude','Longitude']],radius=15).add_to(m_1)\n",
    "\n",
    "# Show the map\n",
    "embed_map(m_1, 'q_1.html')"
   ]
  },
  {
   "cell_type": "markdown",
   "metadata": {},
   "source": [
    "![Q1](q1.jpg)\n"
   ]
  },
  {
   "cell_type": "markdown",
   "metadata": {},
   "source": [
    "[Click here for the above map](q_1.html)"
   ]
  },
  {
   "cell_type": "markdown",
   "metadata": {},
   "source": [
    "### From the above map we can see that earthquakes coincide with plate boundaries."
   ]
  },
  {
   "cell_type": "markdown",
   "metadata": {},
   "source": [
    "## Is there a relationship between earthquake depth and proximity to a plate boundary in Japan?\n",
    "\n",
    "I'm interested to see if there are any intereresting global patterns, and I'd also like to understand how depth varies in Japan.\n",
    "\n"
   ]
  },
  {
   "cell_type": "code",
   "execution_count": 10,
   "metadata": {
    "execution": {
     "iopub.execute_input": "2024-01-14T02:58:40.284853Z",
     "iopub.status.busy": "2024-01-14T02:58:40.283929Z",
     "iopub.status.idle": "2024-01-14T02:58:40.298187Z",
     "shell.execute_reply": "2024-01-14T02:58:40.297144Z",
     "shell.execute_reply.started": "2024-01-14T02:58:40.284815Z"
    }
   },
   "outputs": [
    {
     "data": {
      "text/plain": [
       "count    5304.000000\n",
       "mean       74.268037\n",
       "std       129.092258\n",
       "min         0.000000\n",
       "25%        14.500000\n",
       "50%        33.000000\n",
       "75%        52.300000\n",
       "max       688.000000\n",
       "Name: Depth, dtype: float64"
      ]
     },
     "execution_count": 10,
     "metadata": {},
     "output_type": "execute_result"
    }
   ],
   "source": [
    "earthquakes['Depth'].describe()"
   ]
  },
  {
   "cell_type": "code",
   "execution_count": 12,
   "metadata": {
    "execution": {
     "iopub.execute_input": "2024-01-14T03:38:03.419680Z",
     "iopub.status.busy": "2024-01-14T03:38:03.419195Z",
     "iopub.status.idle": "2024-01-14T03:38:08.767481Z",
     "shell.execute_reply": "2024-01-14T03:38:08.766392Z",
     "shell.execute_reply.started": "2024-01-14T03:38:03.419643Z"
    }
   },
   "outputs": [
    {
     "data": {
      "text/html": [
       "\n",
       "        <iframe\n",
       "            width=\"100%\"\n",
       "            height=\"500px\"\n",
       "            src=\"q_2.html\"\n",
       "            frameborder=\"0\"\n",
       "            allowfullscreen\n",
       "            \n",
       "        ></iframe>\n",
       "        "
      ],
      "text/plain": [
       "<IPython.lib.display.IFrame at 0x130aee790>"
      ]
     },
     "execution_count": 12,
     "metadata": {},
     "output_type": "execute_result"
    }
   ],
   "source": [
    "# Create a base map with plate boundaries\n",
    "m_2 = folium.Map(location=[35,136], tiles='cartodbpositron', zoom_start=5)\n",
    "for i in range(len(plate_boundaries)):\n",
    "    folium.PolyLine(locations=plate_boundaries.coordinates.iloc[i], weight=2, color='black').add_to(m_2)\n",
    "    \n",
    "# map to visualize earthquake depth\n",
    "def color_producer(val):\n",
    "    if val < 50:\n",
    "        return 'green'\n",
    "    elif val < 250:\n",
    "        return 'orange'\n",
    "    else:\n",
    "        return 'red'\n",
    "\n",
    "for i in range(len(earthquakes)):\n",
    "    folium.Circle(location=[earthquakes.iloc[i]['Latitude'],earthquakes.iloc[i]['Longitude']],radius=500,color=color_producer(earthquakes.iloc[i]['Depth'])).add_to(m_2)\n",
    "\n",
    "# View the map\n",
    "embed_map(m_2, 'q_2.html')"
   ]
  },
  {
   "cell_type": "markdown",
   "metadata": {},
   "source": [
    "![Q1](q2.jpg)"
   ]
  },
  {
   "cell_type": "markdown",
   "metadata": {},
   "source": [
    "[Click here for the above map](q_2.html)"
   ]
  },
  {
   "cell_type": "markdown",
   "metadata": {},
   "source": [
    "### In the northern half of Japan, it does appear that earthquakes closer to plate boundaries tend to be shallower (and earthquakes farther from plate boundaries are deeper). This pattern is repeated in other locations, such as the western coast of South America. But, it does not hold everywhere (for instance, in China, Mongolia, and Russia)."
   ]
  },
  {
   "cell_type": "markdown",
   "metadata": {},
   "source": [
    "## Which prefectures have high population density?"
   ]
  },
  {
   "cell_type": "code",
   "execution_count": 14,
   "metadata": {
    "execution": {
     "iopub.execute_input": "2024-01-14T02:58:46.208047Z",
     "iopub.status.busy": "2024-01-14T02:58:46.207721Z",
     "iopub.status.idle": "2024-01-14T02:58:47.150753Z",
     "shell.execute_reply": "2024-01-14T02:58:47.149739Z",
     "shell.execute_reply.started": "2024-01-14T02:58:46.208019Z"
    }
   },
   "outputs": [
    {
     "data": {
      "text/html": [
       "<div>\n",
       "<style scoped>\n",
       "    .dataframe tbody tr th:only-of-type {\n",
       "        vertical-align: middle;\n",
       "    }\n",
       "\n",
       "    .dataframe tbody tr th {\n",
       "        vertical-align: top;\n",
       "    }\n",
       "\n",
       "    .dataframe thead th {\n",
       "        text-align: right;\n",
       "    }\n",
       "</style>\n",
       "<table border=\"1\" class=\"dataframe\">\n",
       "  <thead>\n",
       "    <tr style=\"text-align: right;\">\n",
       "      <th></th>\n",
       "      <th>geometry</th>\n",
       "    </tr>\n",
       "    <tr>\n",
       "      <th>prefecture</th>\n",
       "      <th></th>\n",
       "    </tr>\n",
       "  </thead>\n",
       "  <tbody>\n",
       "    <tr>\n",
       "      <th>Aichi</th>\n",
       "      <td>MULTIPOLYGON (((137.09523 34.65330, 137.09546 ...</td>\n",
       "    </tr>\n",
       "    <tr>\n",
       "      <th>Akita</th>\n",
       "      <td>MULTIPOLYGON (((139.55725 39.20330, 139.55765 ...</td>\n",
       "    </tr>\n",
       "    <tr>\n",
       "      <th>Aomori</th>\n",
       "      <td>MULTIPOLYGON (((141.39860 40.92472, 141.39806 ...</td>\n",
       "    </tr>\n",
       "    <tr>\n",
       "      <th>Chiba</th>\n",
       "      <td>MULTIPOLYGON (((139.82488 34.98967, 139.82434 ...</td>\n",
       "    </tr>\n",
       "    <tr>\n",
       "      <th>Ehime</th>\n",
       "      <td>MULTIPOLYGON (((132.55859 32.91224, 132.55904 ...</td>\n",
       "    </tr>\n",
       "  </tbody>\n",
       "</table>\n",
       "</div>"
      ],
      "text/plain": [
       "                                                     geometry\n",
       "prefecture                                                   \n",
       "Aichi       MULTIPOLYGON (((137.09523 34.65330, 137.09546 ...\n",
       "Akita       MULTIPOLYGON (((139.55725 39.20330, 139.55765 ...\n",
       "Aomori      MULTIPOLYGON (((141.39860 40.92472, 141.39806 ...\n",
       "Chiba       MULTIPOLYGON (((139.82488 34.98967, 139.82434 ...\n",
       "Ehime       MULTIPOLYGON (((132.55859 32.91224, 132.55904 ..."
      ]
     },
     "execution_count": 14,
     "metadata": {},
     "output_type": "execute_result"
    }
   ],
   "source": [
    "# GeoDataFrame with prefecture boundaries\n",
    "prefectures = gpd.read_file(\"japan-prefecture-boundaries/japan-prefecture-boundaries.shp\")\n",
    "prefectures.set_index('prefecture', inplace=True)\n",
    "prefectures.head()"
   ]
  },
  {
   "cell_type": "markdown",
   "metadata": {},
   "source": [
    "The next code cell creates a DataFrame `stats` containing the population, area (in square kilometers), and population density (per square kilometer) for each Japanese prefecture.  Run the code cell without changes."
   ]
  },
  {
   "cell_type": "code",
   "execution_count": 15,
   "metadata": {
    "execution": {
     "iopub.execute_input": "2024-01-14T02:58:47.152716Z",
     "iopub.status.busy": "2024-01-14T02:58:47.152140Z",
     "iopub.status.idle": "2024-01-14T02:58:48.260442Z",
     "shell.execute_reply": "2024-01-14T02:58:48.259306Z",
     "shell.execute_reply.started": "2024-01-14T02:58:47.152683Z"
    }
   },
   "outputs": [
    {
     "data": {
      "text/html": [
       "<div>\n",
       "<style scoped>\n",
       "    .dataframe tbody tr th:only-of-type {\n",
       "        vertical-align: middle;\n",
       "    }\n",
       "\n",
       "    .dataframe tbody tr th {\n",
       "        vertical-align: top;\n",
       "    }\n",
       "\n",
       "    .dataframe thead th {\n",
       "        text-align: right;\n",
       "    }\n",
       "</style>\n",
       "<table border=\"1\" class=\"dataframe\">\n",
       "  <thead>\n",
       "    <tr style=\"text-align: right;\">\n",
       "      <th></th>\n",
       "      <th>population</th>\n",
       "      <th>area_sqkm</th>\n",
       "      <th>density</th>\n",
       "    </tr>\n",
       "    <tr>\n",
       "      <th>prefecture</th>\n",
       "      <th></th>\n",
       "      <th></th>\n",
       "      <th></th>\n",
       "    </tr>\n",
       "  </thead>\n",
       "  <tbody>\n",
       "    <tr>\n",
       "      <th>Tokyo</th>\n",
       "      <td>12868000</td>\n",
       "      <td>1800.614782</td>\n",
       "      <td>7146.448049</td>\n",
       "    </tr>\n",
       "    <tr>\n",
       "      <th>Kanagawa</th>\n",
       "      <td>8943000</td>\n",
       "      <td>2383.038975</td>\n",
       "      <td>3752.771186</td>\n",
       "    </tr>\n",
       "    <tr>\n",
       "      <th>Osaka</th>\n",
       "      <td>8801000</td>\n",
       "      <td>1923.151529</td>\n",
       "      <td>4576.342460</td>\n",
       "    </tr>\n",
       "    <tr>\n",
       "      <th>Aichi</th>\n",
       "      <td>7418000</td>\n",
       "      <td>5164.400005</td>\n",
       "      <td>1436.372085</td>\n",
       "    </tr>\n",
       "    <tr>\n",
       "      <th>Saitama</th>\n",
       "      <td>7130000</td>\n",
       "      <td>3794.036890</td>\n",
       "      <td>1879.264806</td>\n",
       "    </tr>\n",
       "  </tbody>\n",
       "</table>\n",
       "</div>"
      ],
      "text/plain": [
       "            population    area_sqkm      density\n",
       "prefecture                                      \n",
       "Tokyo         12868000  1800.614782  7146.448049\n",
       "Kanagawa       8943000  2383.038975  3752.771186\n",
       "Osaka          8801000  1923.151529  4576.342460\n",
       "Aichi          7418000  5164.400005  1436.372085\n",
       "Saitama        7130000  3794.036890  1879.264806"
      ]
     },
     "execution_count": 15,
     "metadata": {},
     "output_type": "execute_result"
    }
   ],
   "source": [
    "# DataFrame containing population of each prefecture\n",
    "population = pd.read_csv(\"japan-prefecture-population.csv\")\n",
    "population.set_index('prefecture', inplace=True)\n",
    "\n",
    "# area (in square kilometers) of each prefecture\n",
    "area_sqkm = pd.Series(prefectures.geometry.to_crs(epsg=32654).area / 10**6, name='area_sqkm')\n",
    "stats = population.join(area_sqkm)\n",
    "\n",
    "# density (per square kilometer) of each prefecture\n",
    "stats['density'] = stats[\"population\"] / stats[\"area_sqkm\"]\n",
    "stats.head()"
   ]
  },
  {
   "cell_type": "markdown",
   "metadata": {},
   "source": [
    "### Choropleth map to visualize population density."
   ]
  },
  {
   "cell_type": "code",
   "execution_count": 16,
   "metadata": {
    "execution": {
     "iopub.execute_input": "2024-01-14T03:46:21.079251Z",
     "iopub.status.busy": "2024-01-14T03:46:21.078843Z",
     "iopub.status.idle": "2024-01-14T03:46:26.863783Z",
     "shell.execute_reply": "2024-01-14T03:46:26.862601Z",
     "shell.execute_reply.started": "2024-01-14T03:46:21.079222Z"
    },
    "scrolled": true
   },
   "outputs": [
    {
     "data": {
      "text/html": [
       "\n",
       "        <iframe\n",
       "            width=\"100%\"\n",
       "            height=\"500px\"\n",
       "            src=\"q_3.html\"\n",
       "            frameborder=\"0\"\n",
       "            allowfullscreen\n",
       "            \n",
       "        ></iframe>\n",
       "        "
      ],
      "text/plain": [
       "<IPython.lib.display.IFrame at 0x132d34650>"
      ]
     },
     "execution_count": 16,
     "metadata": {},
     "output_type": "execute_result"
    }
   ],
   "source": [
    "# Create a base map\n",
    "m_3 = folium.Map(location=[35,136], tiles='cartodbpositron', zoom_start=5)\n",
    "\n",
    "# choropleth map to visualize population density\n",
    "Choropleth(geo_data=prefectures['geometry'].__geo_interface__, \n",
    "           data=stats['density'], \n",
    "           key_on=\"feature.id\", \n",
    "           fill_color='YlGnBu', \n",
    "           legend_name='Population Density(per sqkm)'\n",
    "          ).add_to(m_3)\n",
    "\n",
    "# View the map\n",
    "embed_map(m_3, 'q_3.html')"
   ]
  },
  {
   "cell_type": "markdown",
   "metadata": {},
   "source": [
    "![Q1](q3.jpg)"
   ]
  },
  {
   "cell_type": "markdown",
   "metadata": {},
   "source": [
    "[Click here for the above map](q_3.html)"
   ]
  },
  {
   "cell_type": "markdown",
   "metadata": {},
   "source": [
    "### The prefectures of Tokyo, Yokohama, and Osaka have the highest population density. All of these prefectures are located in central Japan, and Tokyo and Yokohama are adjacent."
   ]
  },
  {
   "cell_type": "markdown",
   "metadata": {},
   "source": [
    "## Which high-density prefecture is prone to high-magnitude earthquakes?"
   ]
  },
  {
   "cell_type": "code",
   "execution_count": 17,
   "metadata": {
    "execution": {
     "iopub.execute_input": "2024-01-14T02:58:54.117623Z",
     "iopub.status.busy": "2024-01-14T02:58:54.117305Z",
     "iopub.status.idle": "2024-01-14T02:58:54.129287Z",
     "shell.execute_reply": "2024-01-14T02:58:54.128303Z",
     "shell.execute_reply.started": "2024-01-14T02:58:54.117589Z"
    }
   },
   "outputs": [
    {
     "data": {
      "text/plain": [
       "count    5304.000000\n",
       "mean        6.369114\n",
       "std         0.419054\n",
       "min         6.000000\n",
       "25%         6.100000\n",
       "50%         6.200000\n",
       "75%         6.500000\n",
       "max         9.100000\n",
       "Name: Magnitude, dtype: float64"
      ]
     },
     "execution_count": 17,
     "metadata": {},
     "output_type": "execute_result"
    }
   ],
   "source": [
    "earthquakes['Magnitude'].describe()"
   ]
  },
  {
   "cell_type": "code",
   "execution_count": 24,
   "metadata": {},
   "outputs": [
    {
     "data": {
      "text/html": [
       "\n",
       "        <iframe\n",
       "            width=\"100%\"\n",
       "            height=\"500px\"\n",
       "            src=\"q_4.html\"\n",
       "            frameborder=\"0\"\n",
       "            allowfullscreen\n",
       "            \n",
       "        ></iframe>\n",
       "        "
      ],
      "text/plain": [
       "<IPython.lib.display.IFrame at 0x138976790>"
      ]
     },
     "execution_count": 24,
     "metadata": {},
     "output_type": "execute_result"
    }
   ],
   "source": [
    "# Create a base map\n",
    "m_4 = folium.Map(location=[35,136], tiles='cartodbpositron', zoom_start=5)\n",
    "\n",
    "# create a function to assign a color to a map\n",
    "def color_producer(magnitude):\n",
    "    if magnitude > 6.5:\n",
    "        return '#bf1029'\n",
    "    else:\n",
    "        return '#4a9c54'\n",
    "# choropleth map to visualize earthquake magnitude\n",
    "Choropleth(\n",
    "    geo_data=prefectures['geometry'].__geo_interface__,\n",
    "    data=stats['density'],\n",
    "    key_on=\"feature.id\",\n",
    "    fill_color='BuPu',\n",
    "    legend_name='Population density (per square kilometer)').add_to(m_4)\n",
    "# add markers to the map\n",
    "for i in range(0,len(earthquakes)):\n",
    "    folium.Circle(\n",
    "        location=[earthquakes.iloc[i]['Latitude'], earthquakes.iloc[i]['Longitude']],\n",
    "        popup=(\"{} ({})\").format(\n",
    "            earthquakes.iloc[i]['Magnitude'],\n",
    "            earthquakes.iloc[i]['DateTime'].year),\n",
    "        radius=earthquakes.iloc[i]['Magnitude']**5.5,\n",
    "        color=color_producer(earthquakes.iloc[i]['Magnitude'])).add_to(m_4)\n",
    "\n",
    "# View the map\n",
    "embed_map(m_4, 'q_4.html')"
   ]
  },
  {
   "cell_type": "markdown",
   "metadata": {},
   "source": [
    "![Q1](q4.jpg)"
   ]
  },
  {
   "cell_type": "markdown",
   "metadata": {},
   "source": [
    "[Click here for the above map](q_4.html)"
   ]
  },
  {
   "cell_type": "markdown",
   "metadata": {},
   "source": [
    "### **Tokyo** is by far the most densely populated prefecture and has also experienced a number of earthquakes.  **Osaka** is relatively less densely populated, but experienced an earthquake that was relatively stronger than those near Tokyo.  And, **Yokohama** (in addition to its high density and the historical proximity of strong earthquakes) might lead us to worry about the added potential tsunami risk.\n",
    "\n",
    "\n",
    "## I would recommend **Yokohama** and **Osaka** for extra earthquake reinforcement. As they both have experienced strong earthquakes, they are relatively close to each other. I wouldn't recommend **Tokyo** for extra earthquake reinforcement eventhough it being densely populated because it has experienced weaker earthquakes compared to **Yokohama** and **Osaka**.\n"
   ]
  }
 ],
 "metadata": {
  "kaggle": {
   "accelerator": "none",
   "dataSources": [
    {
     "datasetId": 348259,
     "sourceId": 695175,
     "sourceType": "datasetVersion"
    },
    {
     "datasetId": 116573,
     "sourceId": 3551030,
     "sourceType": "datasetVersion"
    }
   ],
   "isGpuEnabled": false,
   "isInternetEnabled": false,
   "language": "python",
   "sourceType": "notebook"
  },
  "kernelspec": {
   "display_name": "Python 3 (ipykernel)",
   "language": "python",
   "name": "python3"
  },
  "language_info": {
   "codemirror_mode": {
    "name": "ipython",
    "version": 3
   },
   "file_extension": ".py",
   "mimetype": "text/x-python",
   "name": "python",
   "nbconvert_exporter": "python",
   "pygments_lexer": "ipython3",
   "version": "3.11.4"
  }
 },
 "nbformat": 4,
 "nbformat_minor": 4
}
